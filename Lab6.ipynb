{
 "cells": [
  {
   "cell_type": "code",
   "execution_count": 64,
   "metadata": {},
   "outputs": [],
   "source": [
    "#y = mx + b \n",
    "# y = b0 + m1b1 + m2b2 + m3b3 + ... ... mnbn\n",
    "import numpy as np\n",
    "import os\n",
    "import pandas as pd  \n",
    "import numpy as np  \n",
    "import matplotlib.pyplot as plt  \n",
    "%matplotlib inline\n"
   ]
  },
  {
   "cell_type": "code",
   "execution_count": 65,
   "metadata": {},
   "outputs": [],
   "source": [
    "age=[17.5, 22, 29.5, 44.5, 64.5, 80]\n",
    "deaths=[38, 36, 24, 20, 18, 28]"
   ]
  },
  {
   "cell_type": "code",
   "execution_count": 66,
   "metadata": {},
   "outputs": [
    {
     "data": {
      "image/png": "[encoded data removed]",
      "text/plain": [
       "<Figure size 432x288 with 1 Axes>"
      ]
     },
     "metadata": {
      "needs_background": "light"
     },
     "output_type": "display_data"
    }
   ],
   "source": [
    "plt.scatter(age, deaths)\n",
    "plt.ylabel(\"Number of Driver Deaths per 100,000\")\n",
    "plt.xlabel(\"Age\")\n",
    "plt.show()\n"
   ]
  },
  {
   "cell_type": "code",
   "execution_count": 67,
   "metadata": {},
   "outputs": [
    {
     "name": "stdout",
     "output_type": "stream",
     "text": [
      "m and x values in the equation y=mx+b-  [35.58180453 -0.19182491]\n"
     ]
    }
   ],
   "source": [
    "slope = np.c_[np.ones((6, 1)), age]  \n",
    "y_intercept = np.linalg.inv(Slope.T.dot(Slope)).dot(Slope.T).dot(deaths)\n",
    "print(\"m and x values in the equation y=mx+b- \", y_intercept)"
   ]
  },
  {
   "cell_type": "code",
   "execution_count": 68,
   "metadata": {},
   "outputs": [
    {
     "data": {
      "text/plain": [
       "(array([[ 1. , 17.5],\n",
       "        [ 1. , 22. ],\n",
       "        [ 1. , 29.5],\n",
       "        [ 1. , 44.5],\n",
       "        [ 1. , 64.5],\n",
       "        [ 1. , 80. ]]), array([35.58180453, -0.19182491]))"
      ]
     },
     "execution_count": 68,
     "metadata": {},
     "output_type": "execute_result"
    }
   ],
   "source": [
    "slope,y_intercept"
   ]
  },
  {
   "cell_type": "code",
   "execution_count": 69,
   "metadata": {},
   "outputs": [
    {
     "data": {
      "text/plain": [
       "array([35.58180453, 16.39931338])"
      ]
     },
     "execution_count": 69,
     "metadata": {},
     "output_type": "execute_result"
    }
   ],
   "source": [
    "\n",
    "X_new = np.array([[0],[100]])\n",
    "X_new_b = np.c_[np.ones((2,1)), X_new] # add 1 to each instance\n",
    "y_predict = X_new_b.dot(y_intercept)\n",
    "y_predict"
   ]
  },
  {
   "cell_type": "code",
   "execution_count": 72,
   "metadata": {},
   "outputs": [
    {
     "data": {
      "image/png": "[encoded data removed]",
      "text/plain": [
       "<Figure size 432x288 with 1 Axes>"
      ]
     },
     "metadata": {
      "needs_background": "light"
     },
     "output_type": "display_data"
    }
   ],
   "source": [
    "plt.plot(X_new, y_predict,\"r-\")\n",
    "plt.plot(age,deaths,\"b.\")\n",
    "plt.xlabel(\"Age\", fontsize = 20)\n",
    "plt.ylabel(\"number of deaths\", rotation = 90, fontsize = 18)\n",
    "plt.axis([0,100,0,40])\n",
    "plt.show()"
   ]
  },
  {
   "cell_type": "code",
   "execution_count": 74,
   "metadata": {},
   "outputs": [
    {
     "data": {
      "text/plain": [
       "array([27.90880807])"
      ]
     },
     "execution_count": 74,
     "metadata": {},
     "output_type": "execute_result"
    }
   ],
   "source": [
    "\n",
    "# predict the deaths number for age 40\n",
    "X_new = np.array([[40]])\n",
    "X_new_b = np.c_[np.ones((1,1)), X_new] # add 1 to each instance\n",
    "y_predict = X_new_b.dot(theta_best)\n",
    "y_predict"
   ]
  },
  {
   "cell_type": "code",
   "execution_count": 75,
   "metadata": {},
   "outputs": [
    {
     "data": {
      "text/plain": [
       "array([24.07230984])"
      ]
     },
     "execution_count": 75,
     "metadata": {},
     "output_type": "execute_result"
    }
   ],
   "source": [
    "# predict the deaths number for age 40\n",
    "X_new = np.array([[60]])\n",
    "X_new_b = np.c_[np.ones((1,1)), X_new]\n",
    "y_predict = X_new_b.dot(y_intercept)\n",
    "y_predict"
   ]
  },
  {
   "cell_type": "code",
   "execution_count": 77,
   "metadata": {},
   "outputs": [
    {
     "data": {
      "text/plain": [
       "(-0.578743707566063, 0.22880788559284734)"
      ]
     },
     "execution_count": 77,
     "metadata": {},
     "output_type": "execute_result"
    }
   ],
   "source": [
    "\n",
    "## correlation coefficient\n",
    "from scipy.stats.stats import pearsonr\n",
    "pearsonr(age,deaths)"
   ]
  },
  {
   "cell_type": "code",
   "execution_count": null,
   "metadata": {},
   "outputs": [],
   "source": []
  }
 ],
 "metadata": {
  "kernelspec": {
   "display_name": "Python 3",
   "language": "python",
   "name": "python3"
  },
  "language_info": {
   "codemirror_mode": {
    "name": "ipython",
    "version": 3
   },
   "file_extension": ".py",
   "mimetype": "text/x-python",
   "name": "python",
   "nbconvert_exporter": "python",
   "pygments_lexer": "ipython3",
   "version": "3.7.1"
  }
 },
 "nbformat": 4,
 "nbformat_minor": 2
}
